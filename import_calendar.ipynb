{
 "cells": [
  {
   "cell_type": "code",
   "id": "5085fc41b6be2e72",
   "metadata": {
    "ExecuteTime": {
     "end_time": "2024-05-26T22:47:52.029325Z",
     "start_time": "2024-05-26T22:47:52.024590Z"
    }
   },
   "source": [
    "from __future__ import print_function\n",
    "\n",
    "import datetime\n",
    "import os.path\n",
    "\n",
    "from google.auth.transport.requests import Request\n",
    "from google.oauth2.credentials import Credentials\n",
    "from google_auth_oauthlib.flow import InstalledAppFlow\n",
    "from googleapiclient.discovery import build\n",
    "from googleapiclient.errors import HttpError\n",
    "\n",
    "import inflect\n",
    "\n",
    "p = inflect.engine()\n",
    "\n",
    "import re"
   ],
   "outputs": [],
   "execution_count": 98
  },
  {
   "metadata": {
    "ExecuteTime": {
     "end_time": "2024-05-26T22:48:12.460854Z",
     "start_time": "2024-05-26T22:47:52.236517Z"
    }
   },
   "cell_type": "code",
   "source": [
    "# If modifying these scopes, delete the file token.json.\n",
    "SCOPES = ['https://www.googleapis.com/auth/calendar.readonly']\n",
    "CREDENTIALS_DIR = '.credentials'\n",
    "CREDENTIALS_PATH = os.path.join(CREDENTIALS_DIR, 'credentials.json')\n",
    "TOKEN_PATH = os.path.join(CREDENTIALS_DIR, 'token.json')\n",
    "\n",
    "creds = None\n",
    "# Creare la directory delle credenziali se non esiste\n",
    "if not os.path.exists(CREDENTIALS_DIR):\n",
    "    os.makedirs(CREDENTIALS_DIR)\n",
    "\n",
    "# Il file token.json memorizza i token di accesso e aggiornamento dell'utente.\n",
    "if os.path.exists(TOKEN_PATH):\n",
    "    creds = Credentials.from_authorized_user_file(TOKEN_PATH, SCOPES)\n",
    "\n",
    "# Se non ci sono credenziali valide, chiedi all'utente di accedere.\n",
    "if not creds or not creds.valid:\n",
    "    if creds and creds.expired and creds.refresh_token:\n",
    "        creds.refresh(Request())\n",
    "    else:\n",
    "        flow = InstalledAppFlow.from_client_secrets_file(\n",
    "            CREDENTIALS_PATH, SCOPES)\n",
    "        creds = flow.run_local_server(port=0)\n",
    "    # Salva le credenziali per la prossima esecuzione\n",
    "    with open(TOKEN_PATH, 'w') as token:\n",
    "        token.write(creds.to_json())\n",
    "\n",
    "try:\n",
    "    service = build('calendar', 'v3', credentials=creds)\n",
    "    xai_id = '8881f4je38oo4rbj8qs2cr05lo@group.calendar.google.com'\n",
    "    # Call the Calendar API\n",
    "    now = datetime.datetime.utcnow().isoformat() + 'Z'  # 'Z' indicates UTC time\n",
    "    xai_bday = '2019-01-01T11:30:00+02:00'\n",
    "    events_result = service.events().list(calendarId=xai_id, timeMin=xai_bday,\n",
    "                                          maxResults=200, singleEvents=True,\n",
    "                                          orderBy='startTime').execute()\n",
    "    events = events_result.get('items', [])\n",
    "\n",
    "    if not events:\n",
    "        print('No upcoming events found.')\n",
    "\n",
    "    # Prints the start and name of the next 10 events\n",
    "    seminars = []\n",
    "    for i, event in enumerate(events):\n",
    "        seminar = {}\n",
    "        id = event['id']\n",
    "        imported_event = service.events().get(calendarId=xai_id, eventId=id).execute()\n",
    "\n",
    "        if '[XAI][SM]' in imported_event['summary']:\n",
    "            start = imported_event['start'].get('dateTime', imported_event['start'].get('date'))\n",
    "            seminar['date'] = {}\n",
    "            seminar['date']['day'] = start.split('T')[0].split('-')[2]\n",
    "            seminar['date']['month'] = start.split('T')[0].split('-')[1]\n",
    "            seminar['date']['year'] = start.split('T')[0].split('-')[0]\n",
    "            seminar['date']['hour'] = start.split('T')[1]\n",
    "            seminar['complete_date'] = start\n",
    "            seminar['summary'] = imported_event['summary'].replace('[XAI][SM]', '').strip()\n",
    "            if 'location' in imported_event:\n",
    "                seminar['location'] = imported_event['location']\n",
    "            if 'description' in imported_event:\n",
    "                seminar['description'] = imported_event['description']\n",
    "\n",
    "            seminars.append(seminar)\n",
    "\n",
    "            # if i == 7:\n",
    "            #     break\n",
    "\n",
    "except HttpError as error:\n",
    "    print('An error occurred: %s' % error)"
   ],
   "id": "565467f4411ec1d4",
   "outputs": [],
   "execution_count": 99
  },
  {
   "metadata": {
    "ExecuteTime": {
     "end_time": "2024-05-26T22:48:12.472270Z",
     "start_time": "2024-05-26T22:48:12.464019Z"
    }
   },
   "cell_type": "code",
   "source": [
    "event = seminars[-3]\n",
    "event"
   ],
   "id": "3769729fdb1638dd",
   "outputs": [
    {
     "data": {
      "text/plain": [
       "{'date': {'day': '15',\n",
       "  'month': '02',\n",
       "  'year': '2024',\n",
       "  'hour': '11:30:00+01:00'},\n",
       " 'complete_date': '2024-02-15T11:30:00+01:00',\n",
       " 'summary': 'GenTree: A Generative Model for Decision Trees',\n",
       " 'description': '## Presenter. Mattia Setzu ##<br><br>Abstract. Decision trees are among the most popular supervised models due to their interpretability and knowledge representation resembling human reasoning. Commonly-used decision tree induction algorithms are based on greedy top-down strategies. Although these approaches are known to be an efficient heuristic, the resulting trees are only locally optimal and tend to have overly complex structures. \\xa0On the other hand, optimal decision tree algorithms attempt to create an entire decision tree at once to achieve global optimality.<br><br>We place our proposal between these approaches by designing a generative model for decision trees. Our method first learns a latent decision tree space through a variational architecture using pre-trained decision tree models. Then, it adopts a genetic procedure to explore such latent space to find a compact decision tree with good predictive performance. We compare our proposal against classical tree induction methods, optimal approaches, and ensemble models. <br><br>The results show that our proposal can generate accurate and shallow, i.e., interpretable, decision trees.<br><br><br>___<br><br>Microsoft Teams meeting<br>Join on your computer, mobile app or room device<br><a href=\"https://teams.microsoft.com/l/meetup-join/19%3a511689e6d6494b2c95e95fe823c57aae%40thread.tacv2/1706633728751?context=%7b%22Tid%22%3a%22c7456b31-a220-47f5-be52-473828670aa1%22%2c%22Oid%22%3a%22729b4d16-0567-46a8-a742-d2ae1bf09a4a%22%7d\" target=\"_blank\"><u>Click here to join the meeting</u></a><br>Meeting ID: 367 203 176 108 <br>Passcode: 7pb7m3'}"
      ]
     },
     "execution_count": 100,
     "metadata": {},
     "output_type": "execute_result"
    }
   ],
   "execution_count": 100
  },
  {
   "metadata": {
    "ExecuteTime": {
     "end_time": "2024-05-26T22:48:12.486310Z",
     "start_time": "2024-05-26T22:48:12.474917Z"
    }
   },
   "cell_type": "code",
   "source": [
    "def title_to_md(event):\n",
    "    def remove_special_characters(text):\n",
    "        return re.sub(r'[^A-Za-z0-9\\s]', '', text)\n",
    "\n",
    "    title = event['summary']\n",
    "    ltitle = title.split(' ')\n",
    "    pltitle = [remove_special_characters(x.strip()) for x in ltitle]\n",
    "    pltitle = [x for x in pltitle if x]\n",
    "    name = '-'.join(pltitle[:5])\n",
    "    mdName = event['date']['year'] + '-' + event['date']['month'] + '-' + event['date']['day'] + '-' + name + '.md'\n",
    "    return mdName\n",
    "\n",
    "\n",
    "title_to_md(event)"
   ],
   "id": "c24a488a9c70f65b",
   "outputs": [
    {
     "data": {
      "text/plain": [
       "'2024-02-15-GenTree-A-Generative-Model-for.md'"
      ]
     },
     "execution_count": 101,
     "metadata": {},
     "output_type": "execute_result"
    }
   ],
   "execution_count": 101
  },
  {
   "metadata": {
    "ExecuteTime": {
     "end_time": "2024-05-26T22:48:12.505919Z",
     "start_time": "2024-05-26T22:48:12.492063Z"
    }
   },
   "cell_type": "code",
   "source": [
    "post_list = []\n",
    "for event in seminars:\n",
    "    [title_to_md(event) for event in seminars]"
   ],
   "id": "cda15cd3efc59e",
   "outputs": [],
   "execution_count": 102
  },
  {
   "metadata": {
    "ExecuteTime": {
     "end_time": "2024-05-26T22:55:41.302744Z",
     "start_time": "2024-05-26T22:55:41.289077Z"
    }
   },
   "cell_type": "code",
   "source": [
    "# Lista di nomi di file di esempio\n",
    "# post_list = ['2021-06-01-test.md', '2021-06-02-test-2.md']\n",
    "\n",
    "# Funzione per rimuovere i caratteri speciali da un testo (ad eccezione di spazi, lettere e numeri e i segni di punteggiatura come virgole punti due punti e trattini)\n",
    "\n",
    "def special_remove(text):\n",
    "    return re.sub(r'[^A-Za-z0-9\\s.,:;-<>#]', '', text)\n",
    "\n",
    "\n",
    "\n",
    "def create_file_in_post_folder(event):\n",
    "    # Event variable is a dictionary with keys: 'summary', 'complete_date', 'description'\n",
    "    title = special_remove(event['summary'])\n",
    "    date = event['complete_date'].replace('T', ' ').split('+')[0]\n",
    "    year = date.split('-')[0]\n",
    "    if 'location' in event:\n",
    "        location = event['location']\n",
    "    else:\n",
    "        location = ''\n",
    "    description = special_remove(event['description'])\n",
    "    \n",
    "    if '##' in description:\n",
    "        presenter = description.split('##')[1].strip()\n",
    "        # Remove html element from presenter variable string:\n",
    "        presenter = re.sub('<[^<]+?>', '', presenter)\n",
    "        description = description.split('##')[2]\n",
    "\n",
    "    # Assicurati che la directory _posts/xai esista\n",
    "    directory = \"_posts/xai\"\n",
    "    if not os.path.exists(directory):\n",
    "        os.makedirs(directory)\n",
    "    filename = title_to_md(event)\n",
    "    file_path = os.path.join(directory, filename)\n",
    "\n",
    "    # Controlla se il file esiste già, altrimenti crealo\n",
    "    if not os.path.exists(file_path):\n",
    "        with open(file_path, 'w') as f:\n",
    "            # Puoi aggiungere contenuto di default se necessario\n",
    "            f.write(f'''---\n",
    "layout: post\n",
    "title: \"{title}\"\n",
    "date: \"{date}\"\n",
    "year: {year}\n",
    "tags: \"seminar\"\n",
    "location: \"{location}\"\n",
    "presenter: \"{presenter}\"\n",
    "---\n",
    "<h5>{presenter}</h5>\n",
    "<em>Location: {location}<em>\n",
    "<br>\n",
    "<hr>\n",
    "{description}\n",
    "                ''')  # File vuoto\n",
    "        print(f\"File created: {file_path}\")\n",
    "    else:\n",
    "        print(f\"File already exists: {file_path}\")\n",
    "\n",
    "\n",
    "# Esegui la funzione per ogni nome evento\n",
    "for event in seminars:\n",
    "    create_file_in_post_folder(event)\n",
    "# Chiama la funzione con la lista di nomi di file\n"
   ],
   "id": "5b984cc9d3f7ec16",
   "outputs": [],
   "execution_count": 113
  },
  {
   "metadata": {
    "ExecuteTime": {
     "end_time": "2024-05-26T22:49:54.706200Z",
     "start_time": "2024-05-26T22:49:54.672586Z"
    }
   },
   "cell_type": "code",
   "source": "seminars[-3]['complete_date']",
   "id": "52bd4d4e1a604b9a",
   "outputs": [
    {
     "data": {
      "text/plain": [
       "'2024-02-15T11:30:00+01:00'"
      ]
     },
     "execution_count": 108,
     "metadata": {},
     "output_type": "execute_result"
    }
   ],
   "execution_count": 108
  },
  {
   "metadata": {
    "ExecuteTime": {
     "end_time": "2024-05-26T22:48:12.609323Z",
     "start_time": "2024-05-26T22:48:12.602444Z"
    }
   },
   "cell_type": "code",
   "source": [
    "#reformat string like this 2024-01-27 00:20:00\n",
    "def reformat_date(date):\n",
    "    return date.replace('T', ' ').split('+')[0]\n",
    "\n",
    "\n",
    "reformat_date(seminars[0]['complete_date'])"
   ],
   "id": "cd727ad5034f8f9",
   "outputs": [
    {
     "data": {
      "text/plain": [
       "'2022-06-09 17:00:00'"
      ]
     },
     "execution_count": 105,
     "metadata": {},
     "output_type": "execute_result"
    }
   ],
   "execution_count": 105
  },
  {
   "metadata": {
    "ExecuteTime": {
     "end_time": "2024-05-26T22:48:12.615567Z",
     "start_time": "2024-05-26T22:48:12.611550Z"
    }
   },
   "cell_type": "code",
   "source": [
    "# escape double quote characters in a string\n",
    "def escape_double_quotes(text):\n",
    "    return text.replace('\"', '\\\\\"')"
   ],
   "id": "73eaa53f81e26f42",
   "outputs": [],
   "execution_count": 106
  },
  {
   "metadata": {
    "ExecuteTime": {
     "end_time": "2024-05-26T22:48:12.621615Z",
     "start_time": "2024-05-26T22:48:12.618272Z"
    }
   },
   "cell_type": "code",
   "source": "",
   "id": "999b8d5ab12fd475",
   "outputs": [],
   "execution_count": 106
  },
  {
   "metadata": {},
   "cell_type": "code",
   "outputs": [],
   "execution_count": null,
   "source": "",
   "id": "56f82b17bf80ea65"
  }
 ],
 "metadata": {
  "kernelspec": {
   "display_name": "Python 3 (ipykernel)",
   "language": "python",
   "name": "python3"
  },
  "language_info": {
   "codemirror_mode": {
    "name": "ipython",
    "version": 3
   },
   "file_extension": ".py",
   "mimetype": "text/x-python",
   "name": "python",
   "nbconvert_exporter": "python",
   "pygments_lexer": "ipython3",
   "version": "3.7.12"
  }
 },
 "nbformat": 4,
 "nbformat_minor": 5
}
