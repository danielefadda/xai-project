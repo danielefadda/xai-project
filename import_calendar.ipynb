{
 "cells": [
  {
   "cell_type": "code",
   "id": "5085fc41b6be2e72",
   "metadata": {},
   "source": [
    "from __future__ import print_function\n",
    "\n",
    "import datetime\n",
    "import os.path\n",
    "\n",
    "from google.auth.transport.requests import Request\n",
    "from google.oauth2.credentials import Credentials\n",
    "from google_auth_oauthlib.flow import InstalledAppFlow\n",
    "from googleapiclient.discovery import build\n",
    "from googleapiclient.errors import HttpError\n",
    "\n",
    "import inflect\n",
    "\n",
    "p = inflect.engine()\n",
    "\n",
    "import re"
   ],
   "outputs": [],
   "execution_count": null
  },
  {
   "metadata": {},
   "cell_type": "markdown",
   "source": "# Autenticazione con Google Calendar API",
   "id": "f68fd85096d7aa4"
  },
  {
   "metadata": {},
   "cell_type": "code",
   "source": [
    "# If modifying these scopes, delete the file token.json.\n",
    "SCOPES = ['https://www.googleapis.com/auth/calendar.readonly']\n",
    "CREDENTIALS_DIR = '.credentials'\n",
    "CREDENTIALS_PATH = os.path.join(CREDENTIALS_DIR, 'credentials.json')\n",
    "TOKEN_PATH = os.path.join(CREDENTIALS_DIR, 'token.json')\n",
    "\n",
    "creds = None\n",
    "# Creare la directory delle credenziali se non esiste\n",
    "if not os.path.exists(CREDENTIALS_DIR):\n",
    "    os.makedirs(CREDENTIALS_DIR)\n",
    "\n",
    "# Il file token.json memorizza i token di accesso e aggiornamento dell'utente.\n",
    "if os.path.exists(TOKEN_PATH):\n",
    "    creds = Credentials.from_authorized_user_file(TOKEN_PATH, SCOPES)\n",
    "\n",
    "# Se non ci sono credenziali valide, chiedi all'utente di accedere.\n",
    "if not creds or not creds.valid:\n",
    "    if creds and creds.expired and creds.refresh_token:\n",
    "        creds.refresh(Request())\n",
    "    else:\n",
    "        flow = InstalledAppFlow.from_client_secrets_file(\n",
    "            CREDENTIALS_PATH, SCOPES)\n",
    "        creds = flow.run_local_server(port=0)\n",
    "    # Salva le credenziali per la prossima esecuzione\n",
    "    with open(TOKEN_PATH, 'w') as token:\n",
    "        token.write(creds.to_json())"
   ],
   "id": "755a2e269a5d3737",
   "outputs": [],
   "execution_count": null
  },
  {
   "metadata": {},
   "cell_type": "markdown",
   "source": "# Importa eventi dal calendario",
   "id": "e84f2eb0ccb952ce"
  },
  {
   "metadata": {},
   "cell_type": "code",
   "source": [
    "try:\n",
    "    service = build('calendar', 'v3', credentials=creds)\n",
    "    xai_id = '8881f4je38oo4rbj8qs2cr05lo@group.calendar.google.com'\n",
    "    # Call the Calendar API\n",
    "    now = datetime.datetime.utcnow().isoformat() + 'Z'  # 'Z' indicates UTC time\n",
    "    xai_bday = '2019-01-01T11:30:00+02:00'\n",
    "    events_result = service.events().list(calendarId=xai_id, timeMin=xai_bday,\n",
    "                                          maxResults=200, singleEvents=True,\n",
    "                                          orderBy='startTime').execute()\n",
    "    events = events_result.get('items', [])\n",
    "\n",
    "    if not events:\n",
    "        print('No upcoming events found.')\n",
    "\n",
    "    # Prints the start and name of the next 10 events\n",
    "    seminars = []\n",
    "    for i, event in enumerate(events):\n",
    "        seminar = {}\n",
    "        id = event['id']\n",
    "        imported_event = service.events().get(calendarId=xai_id, eventId=id).execute()\n",
    "\n",
    "        if '[XAI][SM]' in imported_event['summary']:\n",
    "            start = imported_event['start'].get('dateTime', imported_event['start'].get('date'))\n",
    "            seminar['date'] = {}\n",
    "            seminar['date']['day'] = start.split('T')[0].split('-')[2]\n",
    "            seminar['date']['month'] = start.split('T')[0].split('-')[1]\n",
    "            seminar['date']['year'] = start.split('T')[0].split('-')[0]\n",
    "            seminar['date']['hour'] = start.split('T')[1]\n",
    "            seminar['complete_date'] = start\n",
    "            seminar['summary'] = imported_event['summary'].replace('[XAI][SM]', '').strip()\n",
    "            if 'location' in imported_event:\n",
    "                seminar['location'] = imported_event['location']\n",
    "            if 'description' in imported_event:\n",
    "                seminar['description'] = imported_event['description']\n",
    "\n",
    "            seminars.append(seminar)\n",
    "\n",
    "            # if i == 7:\n",
    "            #     break\n",
    "\n",
    "except HttpError as error:\n",
    "    print('An error occurred: %s' % error)"
   ],
   "id": "565467f4411ec1d4",
   "outputs": [],
   "execution_count": null
  },
  {
   "metadata": {},
   "cell_type": "markdown",
   "source": "# Check dell'ultimo evento importato",
   "id": "c5c975e32d87d117"
  },
  {
   "metadata": {},
   "cell_type": "code",
   "source": [
    "event = seminars[-1]\n",
    "event"
   ],
   "id": "3769729fdb1638dd",
   "outputs": [],
   "execution_count": null
  },
  {
   "metadata": {},
   "cell_type": "markdown",
   "source": "# Funzione per convertire il titolo dell'evento in un nome di file markdown",
   "id": "4257d115684567"
  },
  {
   "metadata": {},
   "cell_type": "code",
   "source": [
    "def title_to_md(event):\n",
    "    def remove_special_characters(text):\n",
    "        return re.sub(r'[^A-Za-z0-9\\s]', '', text)\n",
    "\n",
    "    title = event['summary']\n",
    "    ltitle = title.split(' ')\n",
    "    pltitle = [remove_special_characters(x.strip()) for x in ltitle]\n",
    "    pltitle = [x for x in pltitle if x]\n",
    "    name = '-'.join(pltitle[:5])\n",
    "    mdName = event['date']['year'] + '-' + event['date']['month'] + '-' + event['date']['day'] + '-' + name + '.md'\n",
    "    return mdName\n",
    "\n",
    "\n",
    "title_to_md(event)"
   ],
   "id": "c24a488a9c70f65b",
   "outputs": [],
   "execution_count": null
  },
  {
   "metadata": {},
   "cell_type": "markdown",
   "source": "# Creazione di un file markdown per ogni evento",
   "id": "65f63aa478ad507d"
  },
  {
   "metadata": {},
   "cell_type": "code",
   "source": [
    "# post_list = []\n",
    "# for event in seminars:\n",
    "#     [title_to_md(event) for event in seminars]"
   ],
   "id": "cda15cd3efc59e",
   "outputs": [],
   "execution_count": null
  },
  {
   "metadata": {},
   "cell_type": "code",
   "source": "",
   "id": "720fd30e36049489",
   "outputs": [],
   "execution_count": null
  },
  {
   "metadata": {},
   "cell_type": "markdown",
   "source": "",
   "id": "4272d6ff2f732a58"
  },
  {
   "metadata": {},
   "cell_type": "code",
   "source": [
    "def create_file_in_post_folder(event):\n",
    "    # Funzione per rimuovere i caratteri speciali da un testo (ad eccezione di spazi, lettere e numeri e i segni di punteggiatura come virgole punti due punti e trattini)\n",
    "    def special_remove(text):\n",
    "        return re.sub(r'[^A-Za-z0-9\\s.,:;-<>#]', '', text)\n",
    "    \n",
    "    # Event variable is a dictionary with keys: 'summary', 'complete_date', 'description'\n",
    "    title = special_remove(event['summary'])\n",
    "    event_date = event['complete_date'].replace('T', ' ').split('+')[0]\n",
    "    #set current date to now if event_date is in the future\n",
    "    if datetime.datetime.now() < datetime.datetime.strptime(event_date, '%Y-%m-%d %H:%M:%S'):\n",
    "        date = datetime.datetime.now().isoformat()\n",
    "        \n",
    "    year = event_date.split('-')[0]\n",
    "    if 'location' in event:\n",
    "        location = event['location']\n",
    "    else:\n",
    "        location = ''\n",
    "    # description = special_remove(event['description'])\n",
    "    description = event['description']\n",
    "    if '##' in description:\n",
    "        presenter = description.split('##')[1].strip()\n",
    "        # Remove html element from presenter variable string:\n",
    "        presenter = re.sub('<[^<]+?>', '', presenter)\n",
    "        description = description.split('##')[2]\n",
    "\n",
    "    # Assicurati che la directory _posts/xai esista\n",
    "    directory = \"_posts/xai\"\n",
    "    if not os.path.exists(directory):\n",
    "        os.makedirs(directory)\n",
    "    filename = title_to_md(event)\n",
    "    file_path = os.path.join(directory, filename)\n",
    "\n",
    "    # Controlla se il file esiste già, altrimenti crealo\n",
    "    if not os.path.exists(file_path):\n",
    "        with open(file_path, 'w') as f:\n",
    "            # Puoi aggiungere contenuto di default se necessario\n",
    "            f.write(f'''---\n",
    "layout: post\n",
    "title: \"{title}\"\n",
    "event-date: \"{event_date}\"\n",
    "date: \"{datetime.datetime.now().isoformat()}\"\n",
    "year: {year}\n",
    "tags: \"seminar\"\n",
    "location: \"{location}\"\n",
    "presenter: \"{presenter}\"\n",
    "---\n",
    "<h5>{presenter}</h5>\n",
    "<em>Location: {location}<em>\n",
    "<br>\n",
    "<hr>\n",
    "\n",
    "{description}\n",
    "\n",
    "                ''')  # File vuoto\n",
    "        print(f\"File created: {file_path}\")\n",
    "    else:\n",
    "        print(f\"File already exists: {file_path}\")\n"
   ],
   "id": "f42283f301587dbb",
   "outputs": [],
   "execution_count": null
  },
  {
   "metadata": {
    "ExecuteTime": {
     "end_time": "2024-06-03T16:21:39.283584Z",
     "start_time": "2024-06-03T16:21:39.276281Z"
    }
   },
   "cell_type": "code",
   "source": [
    "# Esegui la funzione per ogni nome evento\n",
    "for event in seminars:\n",
    "    create_file_in_post_folder(event)\n",
    "# Chiama la funzione con la lista di nomi di file\n"
   ],
   "id": "5b984cc9d3f7ec16",
   "outputs": [
    {
     "name": "stdout",
     "output_type": "stream",
     "text": [
      "File already exists: _posts/xai/2022-06-09-Logicbased-Explanations-for-Neural-Networks.md\n",
      "File already exists: _posts/xai/2022-12-13-Bias-Evaluation-in-Search-Platforms.md\n",
      "File already exists: _posts/xai/2022-12-21-GLocalX.md\n",
      "File already exists: _posts/xai/2023-03-15-Explanation-visualization-at-scale-progress.md\n",
      "File already exists: _posts/xai/2023-05-17-Welcome-seminar-by-Simone-Piaggesi.md\n",
      "File already exists: _posts/xai/2023-06-01-Domain-Adaptive-Decision-Trees-Implications.md\n",
      "File already exists: _posts/xai/2023-09-27-Introduction-to-LLMs.md\n",
      "File already exists: _posts/xai/2023-09-27-Welcome-seminar-by-Margherita-Lalli.md\n",
      "File already exists: _posts/xai/2023-10-04-Welcome-seminar-by-Daphne-Lenders.md\n",
      "File already exists: _posts/xai/2023-10-05-Welcome-seminar-by-Antonio-Mastropietro.md\n",
      "File already exists: _posts/xai/2023-10-12-ReasonX-Declarative-Reasoning-on-Explanations.md\n",
      "File already exists: _posts/xai/2023-10-19-Welcome-seminar-by-Marzio-Di.md\n",
      "File already exists: _posts/xai/2023-10-26-Transformer-models-from-model-inspection.md\n",
      "File already exists: _posts/xai/2023-11-09-FIPER-a-visual-approach-to.md\n",
      "File already exists: _posts/xai/2023-11-30-ParTree-Data-Partitioning-through-Treebased.md\n",
      "File already exists: _posts/xai/2023-12-14-Xai-Library-tutorial.md\n",
      "File already exists: _posts/xai/2024-01-25-SINEX-a-local-posthoc-SIamese.md\n",
      "File already exists: _posts/xai/2024-02-08-Exploring-LLM-Capabilities-to-Explain.md\n",
      "File already exists: _posts/xai/2024-02-15-GenTree-A-Generative-Model-for.md\n",
      "File already exists: _posts/xai/2024-04-11-Interpretable-NeuralSymbolic-Concept-Reasoning.md\n",
      "File already exists: _posts/xai/2024-04-18-The-ALTAI-checklist-as-a.md\n",
      "File already exists: _posts/xai/2024-06-06-Learning-explaining-and-actioning-general.md\n"
     ]
    }
   ],
   "execution_count": 32
  },
  {
   "metadata": {},
   "cell_type": "code",
   "source": [
    "# # escape double quote characters in a string\n",
    "# def escape_double_quotes(text):\n",
    "#     return text.replace('\"', '\\\\\"')"
   ],
   "id": "73eaa53f81e26f42",
   "outputs": [],
   "execution_count": null
  }
 ],
 "metadata": {
  "kernelspec": {
   "display_name": "Python 3 (ipykernel)",
   "language": "python",
   "name": "python3"
  },
  "language_info": {
   "codemirror_mode": {
    "name": "ipython",
    "version": 3
   },
   "file_extension": ".py",
   "mimetype": "text/x-python",
   "name": "python",
   "nbconvert_exporter": "python",
   "pygments_lexer": "ipython3",
   "version": "3.7.12"
  }
 },
 "nbformat": 4,
 "nbformat_minor": 5
}
