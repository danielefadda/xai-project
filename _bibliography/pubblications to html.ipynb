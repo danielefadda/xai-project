{
 "cells": [
  {
   "cell_type": "code",
   "metadata": {
    "ExecuteTime": {
     "end_time": "2024-05-22T16:14:27.103808Z",
     "start_time": "2024-05-22T16:14:25.435456Z"
    }
   },
   "source": [
    "import pandas as pd\n",
    "from IPython.display import HTML\n",
    "import math"
   ],
   "execution_count": 1,
   "outputs": []
  },
  {
   "cell_type": "code",
   "metadata": {
    "ExecuteTime": {
     "end_time": "2024-05-22T16:14:27.568721Z",
     "start_time": "2024-05-22T16:14:27.107054Z"
    }
   },
   "source": [
    "import inflect\n",
    "p = inflect.engine()\n",
    "p.number_to_words(99)"
   ],
   "execution_count": 2,
   "outputs": []
  },
  {
   "cell_type": "code",
   "metadata": {
    "ExecuteTime": {
     "end_time": "2024-05-22T16:14:27.572131Z",
     "start_time": "2024-05-22T16:14:27.571362Z"
    }
   },
   "source": [
    "import urllib.request\n",
    "from urllib.error import HTTPError\n",
    "import sys"
   ],
   "execution_count": null,
   "outputs": []
  },
  {
   "cell_type": "code",
   "metadata": {
    "ExecuteTime": {
     "end_time": "2024-05-22T16:14:31.998679Z",
     "start_time": "2024-05-22T16:14:31.994881Z"
    }
   },
   "source": [
    "sheet_id = '1VaF5jAauYYYKo1WH40kLlsQ0-azIX5eMZoFYv5JrVr0'\n",
    "sheet_names = ['papers','dataset','algorithms','masterThesis','phdThesis']"
   ],
   "execution_count": 3,
   "outputs": []
  },
  {
   "cell_type": "code",
   "metadata": {
    "ExecuteTime": {
     "end_time": "2024-05-22T16:14:33.005187Z",
     "start_time": "2024-05-22T16:14:32.997374Z"
    }
   },
   "source": [
    "def write_html(string,filename='filename',extension='pug'):\n",
    "    Html_file= open(f\"{filename}.{extension}\",\"w\")\n",
    "    Html_file.write(string)\n",
    "    Html_file.close()"
   ],
   "execution_count": 4,
   "outputs": []
  },
  {
   "cell_type": "markdown",
   "metadata": {},
   "source": [
    "## Papers"
   ]
  },
  {
   "cell_type": "code",
   "metadata": {
    "ExecuteTime": {
     "end_time": "2024-05-22T16:14:38.923922Z",
     "start_time": "2024-05-22T16:14:38.918726Z"
    }
   },
   "source": [
    "sheet_name= sheet_names[0]\n",
    "url = f'https://docs.google.com/spreadsheets/d/{sheet_id}/gviz/tq?tqx=out:csv&sheet={sheet_name}'"
   ],
   "execution_count": 5,
   "outputs": []
  },
  {
   "cell_type": "code",
   "metadata": {
    "ExecuteTime": {
     "end_time": "2024-05-22T16:14:41.624799Z",
     "start_time": "2024-05-22T16:14:40.019121Z"
    }
   },
   "source": [
    "papers = pd.read_csv(url,header=0)\n",
    "papers.columns"
   ],
   "execution_count": 6,
   "outputs": []
  },
  {
   "cell_type": "code",
   "metadata": {
    "ExecuteTime": {
     "end_time": "2024-05-22T16:14:52.824675Z",
     "start_time": "2024-05-22T16:14:52.807524Z"
    }
   },
   "source": [
    "aut= []\n",
    "for i,el in papers.iterrows():\n",
    "    l = [x.strip() for x in el.Authors.split(',')]\n",
    "    aut.append(l)\n",
    "flat_list = sum(aut, [])\n",
    "authorsU =list(set(flat_list))\n",
    "print(authorsU, len(authorsU))"
   ],
   "execution_count": 7,
   "outputs": []
  },
  {
   "cell_type": "code",
   "metadata": {
    "ExecuteTime": {
     "end_time": "2024-05-22T16:15:45.294108Z",
     "start_time": "2024-05-22T16:15:45.289336Z"
    }
   },
   "source": [
    "if '1' in (papers['Research line'][0]).split(','):\n",
    "    print('eccolo')"
   ],
   "execution_count": 8,
   "outputs": []
  },
  {
   "cell_type": "code",
   "metadata": {
    "ExecuteTime": {
     "end_time": "2024-05-22T16:15:55.583953Z",
     "start_time": "2024-05-22T16:15:55.577982Z"
    }
   },
   "source": [
    "lines = [*range(1,6,1)]\n",
    "lines"
   ],
   "execution_count": 9,
   "outputs": []
  },
  {
   "cell_type": "code",
   "metadata": {
    "ExecuteTime": {
     "end_time": "2024-05-22T08:10:44.483649Z",
     "start_time": "2024-05-22T08:10:44.430954Z"
    }
   },
   "source": [
    "papers[papers['Research line'].str.contains('1', case=False, na=False)]"
   ],
   "execution_count": 12,
   "outputs": []
  },
  {
   "cell_type": "markdown",
   "metadata": {},
   "source": [
    "## Visualization order of the papers"
   ]
  },
  {
   "cell_type": "code",
   "metadata": {
    "ExecuteTime": {
     "end_time": "2024-05-22T08:10:47.399758Z",
     "start_time": "2024-05-22T08:10:47.391169Z"
    }
   },
   "source": [
    "papers=papers.sort_values(by=['featured','Year of publication'], ascending = False).reset_index(drop=True)"
   ],
   "execution_count": 13,
   "outputs": []
  },
  {
   "cell_type": "code",
   "metadata": {
    "ExecuteTime": {
     "end_time": "2024-05-22T08:10:57.232192Z",
     "start_time": "2024-05-22T08:10:57.221084Z"
    }
   },
   "source": [
    "bullets='<ul>'\n",
    "for i, row in papers.iterrows():\n",
    "    authors= row['Authors']\n",
    "#     pubblicationYear = int(row['Year of publication'])\n",
    "    pubYearString = row['Year of publication']\n",
    "    pubblicationYear =  '.' if pubYearString!=pubYearString else ' - '+str(int(pubYearString))+' -'\n",
    "    title=row['Title of the scientific publication'].strip('.')\n",
    "    \n",
    "    journalString=row['Title of the journal or equivalent']\n",
    "    journal='.' if journalString!=journalString else ', '+journalString.strip()+'.'\n",
    "    DOI=row['DOI']\n",
    "    \n",
    "    bullet=f\"<li><strong><a href='https://doi.org/{DOI}' target='_blank'>{title}</a></strong>{pubblicationYear} {authors} {journal}</li>\"\n",
    "    if row['visible on website'] == 'YES':\n",
    "        bullets+=bullet\n",
    "bullets+='</ul>'\n",
    "display(HTML(bullets))"
   ],
   "execution_count": 14,
   "outputs": []
  },
  {
   "cell_type": "markdown",
   "metadata": {},
   "source": [
    "### DOI TO BibTex"
   ]
  },
  {
   "cell_type": "code",
   "metadata": {
    "ExecuteTime": {
     "end_time": "2024-05-22T09:15:35.971700Z",
     "start_time": "2024-05-22T09:15:06.785469Z"
    }
   },
   "source": [
    "doi='10.1007/978-3-030-10997-4_13'\n",
    "BASE_URL = 'http://dx.doi.org/'\n",
    "url = BASE_URL + doi\n",
    "req = urllib.request.Request(url)\n",
    "req.add_header('Accept', 'application/x-bibtex')\n",
    "try:\n",
    "    with urllib.request.urlopen(req) as f:\n",
    "        bibtex = f.read().decode()\n",
    "    print(bibtex)\n",
    "except HTTPError as e:\n",
    "    if e.code == 404:\n",
    "        print('DOI not found.')\n",
    "    else:\n",
    "        print('Service unavailable.')\n",
    "    sys.exit(1)\n",
    "\n",
    "print(type(bibtex))\n",
    "print(url)\n"
   ],
   "execution_count": 52,
   "outputs": []
  },
  {
   "metadata": {},
   "cell_type": "code",
   "execution_count": null,
   "source": "",
   "outputs": []
  },
  {
   "metadata": {
    "ExecuteTime": {
     "end_time": "2024-05-22T09:28:45.347224Z",
     "start_time": "2024-05-22T09:17:38.050433Z"
    }
   },
   "cell_type": "code",
   "source": [
    "bibs=[]\n",
    "BASE_URL = 'http://dx.doi.org/'\n",
    "for i,doi in enumerate(papers.DOI.to_list()):\n",
    "    if type(doi)==str:\n",
    "        url = f'{BASE_URL + doi}'\n",
    "        req = urllib.request.Request(url)\n",
    "        req.add_header('Accept', 'application/x-bibtex')\n",
    "        try:\n",
    "            with urllib.request.urlopen(req) as f:\n",
    "                bibtex = f.read().decode()\n",
    "            bibs.append(bibtex)\n",
    "            # print(bibtex)\n",
    "        except HTTPError as e:\n",
    "            print('error')\n",
    "            # if e.code == 404:\n",
    "            #     print('DOI not found.')\n",
    "            # else:\n",
    "            #     print('Service unavailable.')\n",
    "            # # sys.exit(1)\n",
    "\n",
    "        print(bibtex)\n",
    "bibs"
   ],
   "execution_count": 54,
   "outputs": []
  },
  {
   "metadata": {
    "ExecuteTime": {
     "end_time": "2024-05-22T09:28:45.362606Z",
     "start_time": "2024-05-22T09:28:45.349284Z"
    }
   },
   "cell_type": "code",
   "source": "bibs[0]",
   "execution_count": 55,
   "outputs": []
  },
  {
   "metadata": {
    "ExecuteTime": {
     "end_time": "2024-05-22T09:28:45.376386Z",
     "start_time": "2024-05-22T09:28:45.370127Z"
    }
   },
   "cell_type": "code",
   "source": [
    "with open(\"xai_papers.bib\", \"w\") as file:\n",
    "    for item in bibs:\n",
    "        file.write(item + \"\\n\")"
   ],
   "execution_count": 56,
   "outputs": []
  },
  {
   "metadata": {},
   "cell_type": "code",
   "execution_count": null,
   "source": "",
   "outputs": []
  },
  {
   "cell_type": "markdown",
   "metadata": {},
   "source": [
    "### Pug version"
   ]
  },
  {
   "cell_type": "code",
   "execution_count": 14,
   "metadata": {},
   "source": [
    "bullets=''\n",
    "for i, row in papers.iterrows():\n",
    "    authors= row['Authors']\n",
    "#     pubblicationYear = int(row['Year of publication'])\n",
    "    pubYearString = row['Year of publication']\n",
    "    pubblicationYear =  '.' if pubYearString!=pubYearString else str(int(pubYearString))\n",
    "    \n",
    "    title=row['Title of the scientific publication'].strip('.')\n",
    "    \n",
    "    journalString=row['Title of the journal or equivalent']\n",
    "    journal='.' if journalString!=journalString else ', '+journalString.strip()+'.'\n",
    "    DOI=row['DOI']\n",
    "    \n",
    "    bullet=f'''li\n",
    "    div.mb-3\n",
    "        a(href='https://doi.org/{DOI}', target=\"_blank\")\n",
    "            | {authors} ({pubblicationYear}). #[strong {title}]\n",
    "'''\n",
    "    if row['visible on website'] == 'YES':\n",
    "        bullets+=bullet\n",
    "# display(HTML(bullets))"
   ],
   "outputs": []
  },
  {
   "cell_type": "code",
   "execution_count": 15,
   "metadata": {},
   "source": [
    "display(HTML(bullets))"
   ],
   "outputs": []
  },
  {
   "cell_type": "code",
   "execution_count": 506,
   "metadata": {},
   "source": [
    "write_html(bullets, filename='paper-list')"
   ],
   "outputs": []
  },
  {
   "cell_type": "code",
   "execution_count": 17,
   "metadata": {
    "scrolled": false
   },
   "source": [
    "cards=''\n",
    "for i, row in papers.iterrows():\n",
    "    authors= row['Authors']\n",
    "    abstract= row['abstract']\n",
    "    researchLine= row['Research line']\n",
    "    idAlpha = row['Id di Riccardo']\n",
    "    \n",
    "    if isinstance(researchLine, str):\n",
    "        researchLine=researchLine.replace(\",\", \"▪\")\n",
    "        rlString=f'''p.my-1\n",
    "                small Research Line #[strong {researchLine}]'''\n",
    "    else:\n",
    "        rlString=''\n",
    "\n",
    "        \n",
    "        \n",
    "        \n",
    "    pubYearString = row['Year of publication']\n",
    "    pubblicationYear =  '.' if pubYearString!=pubYearString else str(int(pubYearString))\n",
    "    \n",
    "    title=row['Title of the scientific publication'].strip('.')\n",
    "    \n",
    "    container=row['container']\n",
    "    if not isinstance(container, str):\n",
    "        container=''\n",
    "    else:\n",
    "        container=f' - {container}'\n",
    "    \n",
    "#     journalString=row['Title of the journal or equivalent']\n",
    "#     journal='.' if journalString!=journalString else ', '+journalString.strip()+'.'\n",
    "    journal=row['Title of the journal or equivalent']\n",
    "    if not isinstance(journal, str):\n",
    "        journal=''\n",
    "    else:\n",
    "        journal=f'. In {journal}'\n",
    "        \n",
    "    DOI=row['DOI']\n",
    "    doiLink=row['doi link']\n",
    "    image= row['image file']\n",
    "    \n",
    "    if isinstance(DOI, str):\n",
    "        #Doi to bibtex\n",
    "        BASE_URL = 'http://dx.doi.org/'\n",
    "        url = BASE_URL + DOI\n",
    "        req = urllib.request.Request(url)\n",
    "        req.add_header('Accept', 'application/x-bibtex')\n",
    "        try:\n",
    "            with urllib.request.urlopen(req) as f:\n",
    "                bibtex = f.read().decode()\n",
    "                bibtex=bibtex.replace('\\t','                    ')\n",
    "                bibtex=bibtex[:-1] + \"                }\"\n",
    "#             print(bibtex)\n",
    "        except HTTPError as e:\n",
    "            if e.code == 404:\n",
    "                bibtex='BibTex not found'\n",
    "            else:\n",
    "                bibtex='BibTex not found.'# Service unavaillable\n",
    "#             sys.exit(1)\n",
    "    else:\n",
    "        bibtex='BibTex not found'\n",
    "    \n",
    "    #ADD BUTTONS IF:    \n",
    "        #More information\n",
    "    if (isinstance(abstract, str) or (bibtex not in['BibTex not found','BibTex not found.']) ):\n",
    "        if not (isinstance(abstract, str)):\n",
    "            abstract= 'ABSTRACT NOT FOUND'\n",
    "        \n",
    "        abstractButton= f'''p.my-1\n",
    "            a.btn-mini.px-2.btn-secondary.small(href='#' data-toggle='collapse' data-target='#collapse-{p.number_to_words(i)}' aria-expanded='true' aria-controls='collapseAbs') More information'''\n",
    "    else:\n",
    "        abstractButton=''\n",
    "        \n",
    "        #External link\n",
    "    if (isinstance(doiLink, str)):\n",
    "        externalButton= f'''p.my-1\n",
    "            a.btn-mini.px-2.btn-secondary.small(href='{doiLink}', target=\"_blank\") External Link'''\n",
    "    else:\n",
    "        externalButton= ''\n",
    "\n",
    "    \n",
    "    \n",
    "    \n",
    "    \n",
    "    ptOne=f'''#{idAlpha}.row.mt-4.justify-content-center\n",
    "    .col-lg-1.text-right\n",
    "        h4 {i+1}.\n",
    "        p [{idAlpha}]'''\n",
    "    # summary image?\n",
    "    if row['summary image']=='YES':\n",
    "        ptTwo=f'''\n",
    "    .col-lg-2.pl-0\n",
    "        img(src='assets/images/publication/{image} ' alt=\"immagine\" style='width:100%;' data-toggle='modal' data-target='#modal-{p.number_to_words(i)}' type='button').mr-3\n",
    "        #modal-{p.number_to_words(i)}.modal.fade(tabindex='-1' role='dialog' aria-labelledby='#modal-{p.number_to_words(i)}-Title' aria-hidden='true')\n",
    "            .modal-dialog.modal-lg.modal-dialog-centered(role='document')\n",
    "                .modal-content\n",
    "                    .modal-header\n",
    "                        p.small {title}\n",
    "                        button.close(type='button' data-dismiss='modal' aria-label='Close')\n",
    "                            span(aria-hidden='true') &times;\n",
    "                    .modal-body\n",
    "                        img(src='assets/images/publication/{image} ' alt=\"immagine\" )\n",
    "    .col-lg-6.bg-yellow.p-3'''\n",
    "    else:\n",
    "        ptTwo=f'''\n",
    "    .col-lg-8.bg-yellow.p-3'''\n",
    "\n",
    "    ptThree=f'''\n",
    "        #accordion-{p.number_to_words(i)}.accordion\n",
    "        | #[strong {title}] \n",
    "        br\n",
    "        | #[em {authors}] ({pubblicationYear}){container}{journal}\n",
    "        #collapse-{p.number_to_words(i)}.collapse(aria-labelledby='heading-{p.number_to_words(i)}' data-parent='#accordion-{p.number_to_words(i)}')\n",
    "            div.bg-yellow\n",
    "                hr\n",
    "                p.small #[strong Abstract]\n",
    "                p.small {abstract}\n",
    "            p.small.pt-2 #[strong BibTex]\n",
    "            p.small.\n",
    "                {bibtex}\n",
    "    .col-lg-2.pl-3\n",
    "        {abstractButton}\n",
    "        {externalButton}\n",
    "        {rlString}\n",
    "'''\n",
    "    \n",
    "    card= ptOne+ptTwo+ptThree\n",
    "    if row['visible on website'] == 'YES':\n",
    "        cards+=card\n",
    "    \n",
    "# display(HTML(bullets))"
   ],
   "outputs": []
  },
  {
   "cell_type": "code",
   "execution_count": 18,
   "metadata": {},
   "source": [
    "display(HTML(cards))"
   ],
   "outputs": []
  },
  {
   "cell_type": "code",
   "execution_count": 510,
   "metadata": {},
   "source": [
    "write_html(cards, filename='paper-cards')"
   ],
   "outputs": []
  },
  {
   "cell_type": "markdown",
   "metadata": {},
   "source": [
    "## Thesis"
   ]
  },
  {
   "cell_type": "code",
   "execution_count": 36,
   "metadata": {},
   "source": [
    "sheet_name= sheet_names[3]\n",
    "url = f'https://docs.google.com/spreadsheets/d/{sheet_id}/gviz/tq?tqx=out:csv&sheet={sheet_name}'"
   ],
   "outputs": []
  },
  {
   "cell_type": "code",
   "execution_count": 37,
   "metadata": {},
   "source": [
    "masterThesis = pd.read_csv(url)\n",
    "masterThesis.columns"
   ],
   "outputs": []
  },
  {
   "cell_type": "code",
   "execution_count": 38,
   "metadata": {},
   "source": [
    "masterThesis"
   ],
   "outputs": []
  },
  {
   "cell_type": "code",
   "execution_count": 52,
   "metadata": {},
   "source": [
    "masterThesis=masterThesis.sort_values(['Thesis ','Status [Ongoing] / [completed]'],ascending=[False,True]).reset_index(drop=True)"
   ],
   "outputs": []
  },
  {
   "cell_type": "code",
   "execution_count": 53,
   "metadata": {},
   "source": [
    "bulletsThesis='<ul>'\n",
    "\n",
    "for i, row in masterThesis.iterrows():\n",
    "    author= row['Author']\n",
    "    title= row['Title']\n",
    "    title = '' if title!=title else title\n",
    "    \n",
    "    status= row['Status [Ongoing] / [completed]']\n",
    "    \n",
    "    classification = row['Thesis ']\n",
    "    year= row['Year']\n",
    "    bullet=f\"<li>{author}, <strong>{title}</strong> [{classification} - {year} - {status}]</li>\"\n",
    "    if row['visible on website'] == 'YES':\n",
    "        bulletsThesis+=bullet\n",
    "bulletsThesis+='</ul>'\n",
    "display(HTML(bulletsThesis))"
   ],
   "outputs": []
  },
  {
   "cell_type": "code",
   "execution_count": 32,
   "metadata": {},
   "source": [
    "bulletsThesis"
   ],
   "outputs": []
  },
  {
   "cell_type": "markdown",
   "metadata": {},
   "source": [
    "#### Pug version"
   ]
  },
  {
   "cell_type": "code",
   "execution_count": 51,
   "metadata": {},
   "source": [
    "bulletsThesis=''\n",
    "for i, row in masterThesis.iterrows():\n",
    "    author= row['Author']\n",
    "    title= row['Title']\n",
    "    title = '' if title!=title else title\n",
    "    \n",
    "    status= row['Status [Ongoing] / [completed]']\n",
    "    \n",
    "    classification = row['Thesis ']\n",
    "    year= row['Year']\n",
    "    \n",
    "    bullet=f'''li\n",
    "    div.mb-3\n",
    "        | {author} - #[strong {title}]. [{classification} - {year} - {status}]\n",
    "'''\n",
    "    if row['visible on website'] == 'YES':\n",
    "        bulletsThesis+=bullet\n",
    "    \n",
    "#     bullet=f\"<li>{author}, <strong>{title}</strong> [{classification} - {year} - {status}]</li>\"\n",
    "display(HTML(bulletsThesis))"
   ],
   "outputs": []
  },
  {
   "cell_type": "code",
   "execution_count": 19,
   "metadata": {},
   "source": [
    "write_html(bulletsThesis, filename='thesis-list')"
   ],
   "outputs": []
  },
  {
   "cell_type": "markdown",
   "metadata": {},
   "source": [
    "# Algorithms made by XAI group "
   ]
  },
  {
   "cell_type": "code",
   "execution_count": 20,
   "metadata": {},
   "source": [
    "sheet_name= sheet_names[2]\n",
    "url = f'https://docs.google.com/spreadsheets/d/{sheet_id}/gviz/tq?tqx=out:csv&sheet={sheet_name}'"
   ],
   "outputs": []
  },
  {
   "cell_type": "code",
   "execution_count": 21,
   "metadata": {},
   "source": [
    "algo = pd.read_csv(url)\n",
    "algo.columns"
   ],
   "outputs": []
  },
  {
   "cell_type": "code",
   "execution_count": 22,
   "metadata": {},
   "source": [
    "bulletsAlgo='<ul>'\n",
    "\n",
    "for i, row in algo.iterrows():\n",
    "    author= row['Authors']\n",
    "    title= row['Title']\n",
    "    title = '' if title!=title else title\n",
    "    \n",
    "    description= row['Brief Description']\n",
    "    description = '' if description!=description else ' - '+description.strip('.')+', '\n",
    "    \n",
    "    githubLink=row['github link']\n",
    "    \n",
    "    bullet=f\"<li><strong>{title}</strong> {description} [ {author} ] </li>\"\n",
    "    bulletsAlgo+=bullet\n",
    "bulletsAlgo+='</ul>'\n",
    "display(HTML(bulletsAlgo))"
   ],
   "outputs": []
  },
  {
   "cell_type": "code",
   "execution_count": null,
   "metadata": {},
   "source": [],
   "outputs": []
  }
 ],
 "metadata": {
  "kernelspec": {
   "display_name": "Python 3 (ipykernel)",
   "language": "python",
   "name": "python3"
  },
  "language_info": {
   "codemirror_mode": {
    "name": "ipython",
    "version": 3
   },
   "file_extension": ".py",
   "mimetype": "text/x-python",
   "name": "python",
   "nbconvert_exporter": "python",
   "pygments_lexer": "ipython3",
   "version": "3.7.12"
  }
 },
 "nbformat": 4,
 "nbformat_minor": 2
}
