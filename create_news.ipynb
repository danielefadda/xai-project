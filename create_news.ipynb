{
 "cells": [
  {
   "cell_type": "code",
   "id": "initial_id",
   "metadata": {
    "collapsed": true,
    "ExecuteTime": {
     "end_time": "2024-05-30T20:53:19.272370Z",
     "start_time": "2024-05-30T20:53:19.264402Z"
    }
   },
   "source": "import json",
   "outputs": [],
   "execution_count": 1
  },
  {
   "metadata": {
    "ExecuteTime": {
     "end_time": "2024-05-30T20:53:19.297504Z",
     "start_time": "2024-05-30T20:53:19.292996Z"
    }
   },
   "cell_type": "code",
   "source": [
    "with open('_data/xai_news_all.json', 'r') as f:\n",
    "    news = json.load(f)"
   ],
   "id": "36bc77f147e843f7",
   "outputs": [],
   "execution_count": 2
  },
  {
   "metadata": {
    "ExecuteTime": {
     "end_time": "2024-05-30T20:53:24.745781Z",
     "start_time": "2024-05-30T20:53:24.740597Z"
    }
   },
   "cell_type": "code",
   "source": "news[-1]",
   "id": "5d33dde88b17a3f6",
   "outputs": [
    {
     "data": {
      "text/plain": [
       "{'image': '/assets/img/news/workflow_reason_x.png',\n",
       " 'title': 'ReasonX',\n",
       " 'link': 'https://github.com/lstate/REASONX',\n",
       " 'content': 'Declarative, interactive explanations for decision trees',\n",
       " 'selected': True,\n",
       " 'inline': False,\n",
       " 'categories': 'Workshop',\n",
       " 'id': 45,\n",
       " 'date_verb': 'Apr 18, 2024',\n",
       " 'date': '2024-04-18 00:00:00-0000',\n",
       " 'onlylink': False}"
      ]
     },
     "execution_count": 4,
     "metadata": {},
     "output_type": "execute_result"
    }
   ],
   "execution_count": 4
  },
  {
   "metadata": {
    "ExecuteTime": {
     "end_time": "2024-05-30T20:53:32.306854Z",
     "start_time": "2024-05-30T20:53:32.292022Z"
    }
   },
   "cell_type": "code",
   "source": [
    "import os\n",
    "\n",
    "for n in news:\n",
    "    #if n['inline'] != True:\n",
    "    original_title = n['title']\n",
    "    title = n['title']\n",
    "    title = title.replace(' ', '-')\n",
    "    # remove all special characters except '-'\n",
    "    title = ''.join(e for e in title if e.isalnum() or e == '-')\n",
    "    title = title.lower()\n",
    "    # truncate title if it is longer than 20 characters\n",
    "    if len(title) > 40:\n",
    "        title = title[:40]\n",
    "    # create a new .md file and write the content\n",
    "    md_name = f'{n[\"date\"].split(\" \")[0]}_{title}.md'\n",
    "    # check if the file already exists else create a new one\n",
    "    if md_name in os.listdir('_news/xai_news'):\n",
    "        print(f'{md_name} already exists')\n",
    "    else:\n",
    "        print(f'----- {md_name} created')\n",
    "        with open(f'_news/xai_news/{md_name}', 'w') as f:\n",
    "            f.write(f'''---\n",
    "layout: article\n",
    "date: '{n['date']}'\n",
    "inline: {n['inline']}\n",
    "onlylink: {n['onlylink']}\n",
    "related_posts: false\n",
    "categories: '{n['categories']}'\n",
    "permalink: '/news/{n['title']}'\n",
    "title: '{n['title']}'\n",
    "thumb: '{n['image']}'\n",
    "link: '{n['link']}'\n",
    "---\n",
    "{original_title}\n",
    "''')\n",
    "\n",
    "\n",
    "    "
   ],
   "id": "658ccd05b2be2a4b",
   "outputs": [
    {
     "name": "stdout",
     "output_type": "stream",
     "text": [
      "2020-01-27_afirm.md already exists\n",
      "2019-09-05_tailor.md already exists\n",
      "2019-10-29_intelligibility-of-ai.md already exists\n",
      "2019-10-29_tailor-workshop-2020.md already exists\n",
      "2020-09-06_esof2020---artificial-intelligence-a-ble.md already exists\n",
      "2020-10-30_explaining-explanation-methods-speaker-r.md already exists\n",
      "2020-11-05_falling-walls-circle-table-understanding.md already exists\n",
      "2020-11-25_xaiit.md already exists\n",
      "2021-02-03_disi-university-of-trento---seminar-talk.md already exists\n",
      "2021-02-05_icart-2021.md already exists\n",
      "2021-03-02_digital-futures.md already exists\n",
      "2021-06-30_ai--society-roundtable.md already exists\n",
      "2021-07-19_phd-ai--society.md already exists\n",
      "2021-07-01_artificial-intelligence-for-sustainable-.md already exists\n",
      "2021-09-23_tailor-summer-school-2021.md already exists\n",
      "2021-10-07_european-ai-regulation-week.md already exists\n",
      "2021-10-11_acai-2021.md already exists\n",
      "2021-10-26_abi-formazione---annual-data-driven-bank.md already exists\n",
      "2021-11-26_inauguration-of-the-academic-year-202120.md already exists\n",
      "2021-11-29_digital-economy-and-society-interdiscipl.md already exists\n",
      "2021-12-01_2nd-italian-workshop-on-explainable-arti.md already exists\n",
      "2021-12-01_xai-course-at-scuola-normale-superiore.md already exists\n",
      "2022-01-28_legally-attentive-ai-awareness-conferenc.md already exists\n",
      "2022-02-01_covid-cxr-hackaton.md already exists\n",
      "2022-05-03_chi-2022-award.md already exists\n",
      "2022-03-15_expo-dubai-high-level-forum-on-eu-vision.md already exists\n",
      "2022-06-27_kick-off-meeting-with-intesa-san-paolo.md already exists\n",
      "2022-06-13_iail-2022---imagining-the-ai-landscape-a.md already exists\n",
      "2022-07-04_ai-and-society-2022---pisa.md already exists\n",
      "2022-09-19_xkdd-workshop.md already exists\n",
      "2022-09-22_fosca-giannotti-invited-speaker-at-ecml-.md already exists\n",
      "2022-10-04_benjamin-grosof-seminar-on-hybrid-ai.md already exists\n",
      "2022-11-23_approaching-ai-explainability-in-symboli.md already exists\n",
      "2022-11-28_3rd-italian-workshop-on-explainable-arti.md already exists\n",
      "2022-11-30_benchmark-analysis-of-black-box-local-ex.md already exists\n",
      "2022-12-04_open-call-for-xai-project-collaborators.md already exists\n",
      "2022-12-22_postdoc-position-open.md already exists\n",
      "2023-03-04_topics-in-selective-classification.md already exists\n",
      "2023-03-10_recruitment-of-2-fixed-terms-researcher.md already exists\n",
      "2023-12-05_cognitive-amplification---tedxcremonasal.md already exists\n",
      "2023-12-14_xai-library.md already exists\n",
      "2024-05-24_topics-in-selective-prediction.md already exists\n",
      "2024-05-31_ai-for-good-workshop.md already exists\n",
      "----- 2024-04-18_reasonx.md created\n"
     ]
    }
   ],
   "execution_count": 5
  },
  {
   "metadata": {},
   "cell_type": "code",
   "outputs": [],
   "execution_count": null,
   "source": "",
   "id": "1ae19de61573e692"
  }
 ],
 "metadata": {
  "kernelspec": {
   "display_name": "Python 3",
   "language": "python",
   "name": "python3"
  },
  "language_info": {
   "codemirror_mode": {
    "name": "ipython",
    "version": 2
   },
   "file_extension": ".py",
   "mimetype": "text/x-python",
   "name": "python",
   "nbconvert_exporter": "python",
   "pygments_lexer": "ipython2",
   "version": "2.7.6"
  }
 },
 "nbformat": 4,
 "nbformat_minor": 5
}
